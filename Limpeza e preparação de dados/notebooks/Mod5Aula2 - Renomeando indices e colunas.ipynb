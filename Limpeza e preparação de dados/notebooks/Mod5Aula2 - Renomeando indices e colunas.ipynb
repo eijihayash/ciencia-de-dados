{
 "cells": [
  {
   "cell_type": "markdown",
   "metadata": {},
   "source": [
    "# Índice <a name=\"Contents\"></a>\n",
    "1. [Importando bibliotecas](#import)\n",
    "2. [Construindo um dataframe](#read)\n",
    "3. [Renomeando colunas](#colunas)\n",
    "4. [Renomeando índices](#indices)\n"
   ]
  },
  {
   "cell_type": "markdown",
   "metadata": {},
   "source": [
    "# 1. Importando bibliotecas <a name=\"import\"></a>\n",
    "\n",
    "<div style=\"text-align: right\"\n",
    "     \n",
    "[Voltar ao índice](#Contents)"
   ]
  },
  {
   "cell_type": "code",
   "execution_count": 1,
   "metadata": {
    "ExecuteTime": {
     "end_time": "2021-05-29T14:18:04.136132Z",
     "start_time": "2021-05-29T14:18:03.798217Z"
    }
   },
   "outputs": [],
   "source": [
    "import pandas as pd\n",
    "import numpy  as np"
   ]
  },
  {
   "cell_type": "markdown",
   "metadata": {},
   "source": [
    "# 2. Construindo um dataframe <a name=\"read\"></a>\n",
    "<div style=\"text-align: right\"\n",
    "     \n",
    "[Voltar ao índice](#Contents)"
   ]
  },
  {
   "cell_type": "code",
   "execution_count": 2,
   "metadata": {
    "ExecuteTime": {
     "end_time": "2021-05-29T14:23:40.062246Z",
     "start_time": "2021-05-29T14:23:40.048255Z"
    }
   },
   "outputs": [
    {
     "data": {
      "text/html": [
       "<div>\n",
       "<style scoped>\n",
       "    .dataframe tbody tr th:only-of-type {\n",
       "        vertical-align: middle;\n",
       "    }\n",
       "\n",
       "    .dataframe tbody tr th {\n",
       "        vertical-align: top;\n",
       "    }\n",
       "\n",
       "    .dataframe thead th {\n",
       "        text-align: right;\n",
       "    }\n",
       "</style>\n",
       "<table border=\"1\" class=\"dataframe\">\n",
       "  <thead>\n",
       "    <tr style=\"text-align: right;\">\n",
       "      <th></th>\n",
       "      <th>coluna1</th>\n",
       "      <th>coluna2</th>\n",
       "      <th>coluna3</th>\n",
       "      <th>coluna4</th>\n",
       "    </tr>\n",
       "  </thead>\n",
       "  <tbody>\n",
       "    <tr>\n",
       "      <th>A</th>\n",
       "      <td>162.439348</td>\n",
       "      <td>3.364598</td>\n",
       "      <td>83.959322</td>\n",
       "      <td>-137.367560</td>\n",
       "    </tr>\n",
       "    <tr>\n",
       "      <th>B</th>\n",
       "      <td>-131.240622</td>\n",
       "      <td>71.945029</td>\n",
       "      <td>-77.967268</td>\n",
       "      <td>-84.566044</td>\n",
       "    </tr>\n",
       "    <tr>\n",
       "      <th>C</th>\n",
       "      <td>-150.024524</td>\n",
       "      <td>61.528159</td>\n",
       "      <td>137.001959</td>\n",
       "      <td>26.436605</td>\n",
       "    </tr>\n",
       "    <tr>\n",
       "      <th>D</th>\n",
       "      <td>203.366431</td>\n",
       "      <td>-17.243816</td>\n",
       "      <td>-103.208256</td>\n",
       "      <td>3.046020</td>\n",
       "    </tr>\n",
       "    <tr>\n",
       "      <th>E</th>\n",
       "      <td>-49.569178</td>\n",
       "      <td>-13.940410</td>\n",
       "      <td>23.021503</td>\n",
       "      <td>148.374249</td>\n",
       "    </tr>\n",
       "    <tr>\n",
       "      <th>F</th>\n",
       "      <td>13.330562</td>\n",
       "      <td>-14.725618</td>\n",
       "      <td>-222.394507</td>\n",
       "      <td>-62.667815</td>\n",
       "    </tr>\n",
       "    <tr>\n",
       "      <th>G</th>\n",
       "      <td>-109.602005</td>\n",
       "      <td>-109.683970</td>\n",
       "      <td>64.977629</td>\n",
       "      <td>190.751876</td>\n",
       "    </tr>\n",
       "    <tr>\n",
       "      <th>H</th>\n",
       "      <td>-200.751559</td>\n",
       "      <td>-25.892671</td>\n",
       "      <td>-208.867894</td>\n",
       "      <td>71.320143</td>\n",
       "    </tr>\n",
       "    <tr>\n",
       "      <th>I</th>\n",
       "      <td>-67.078758</td>\n",
       "      <td>145.770062</td>\n",
       "      <td>27.718541</td>\n",
       "      <td>207.408853</td>\n",
       "    </tr>\n",
       "  </tbody>\n",
       "</table>\n",
       "</div>"
      ],
      "text/plain": [
       "      coluna1     coluna2     coluna3     coluna4\n",
       "A  162.439348    3.364598   83.959322 -137.367560\n",
       "B -131.240622   71.945029  -77.967268  -84.566044\n",
       "C -150.024524   61.528159  137.001959   26.436605\n",
       "D  203.366431  -17.243816 -103.208256    3.046020\n",
       "E  -49.569178  -13.940410   23.021503  148.374249\n",
       "F   13.330562  -14.725618 -222.394507  -62.667815\n",
       "G -109.602005 -109.683970   64.977629  190.751876\n",
       "H -200.751559  -25.892671 -208.867894   71.320143\n",
       "I  -67.078758  145.770062   27.718541  207.408853"
      ]
     },
     "execution_count": 2,
     "metadata": {},
     "output_type": "execute_result"
    }
   ],
   "source": [
    "df = pd.DataFrame(\n",
    "    np.random.randn(9, 4)*100,\n",
    "    index=[\"A\", \"B\", \"C\", \"D\", \"E\", \"F\", \"G\", \"H\", \"I\"],\n",
    "    columns=[\"coluna1\", \"coluna2\", \"coluna3\",\"coluna4\"],\n",
    ")\n",
    "df"
   ]
  },
  {
   "cell_type": "markdown",
   "metadata": {},
   "source": [
    "# 3. Renomeando colunas <a name=\"colunas\"></a>\n",
    "<div style=\"text-align: right\"\n",
    "     \n",
    "[Voltar ao índice](#Contents)"
   ]
  },
  {
   "cell_type": "code",
   "execution_count": 17,
   "metadata": {
    "ExecuteTime": {
     "end_time": "2021-05-29T14:23:54.029190Z",
     "start_time": "2021-05-29T14:23:54.019195Z"
    }
   },
   "outputs": [
    {
     "data": {
      "text/plain": [
       "Index(['coluna1', 'coluna2', 'coluna3', 'coluna4'], dtype='object')"
      ]
     },
     "execution_count": 17,
     "metadata": {},
     "output_type": "execute_result"
    }
   ],
   "source": [
    "df.columns"
   ]
  },
  {
   "cell_type": "code",
   "execution_count": 3,
   "metadata": {
    "ExecuteTime": {
     "end_time": "2021-05-29T14:25:02.422780Z",
     "start_time": "2021-05-29T14:25:02.404790Z"
    }
   },
   "outputs": [],
   "source": [
    "df.columns = ['segunda', 'terça', 'quarta', 'quinta']"
   ]
  },
  {
   "cell_type": "code",
   "execution_count": 4,
   "metadata": {
    "ExecuteTime": {
     "end_time": "2021-05-29T14:25:07.787193Z",
     "start_time": "2021-05-29T14:25:07.777200Z"
    }
   },
   "outputs": [
    {
     "data": {
      "text/plain": [
       "Index(['segunda', 'terça', 'quarta', 'quinta'], dtype='object')"
      ]
     },
     "execution_count": 4,
     "metadata": {},
     "output_type": "execute_result"
    }
   ],
   "source": [
    "df.columns"
   ]
  },
  {
   "cell_type": "code",
   "execution_count": 5,
   "metadata": {
    "ExecuteTime": {
     "end_time": "2021-05-29T14:25:10.544938Z",
     "start_time": "2021-05-29T14:25:10.535941Z"
    },
    "scrolled": true
   },
   "outputs": [
    {
     "data": {
      "text/html": [
       "<div>\n",
       "<style scoped>\n",
       "    .dataframe tbody tr th:only-of-type {\n",
       "        vertical-align: middle;\n",
       "    }\n",
       "\n",
       "    .dataframe tbody tr th {\n",
       "        vertical-align: top;\n",
       "    }\n",
       "\n",
       "    .dataframe thead th {\n",
       "        text-align: right;\n",
       "    }\n",
       "</style>\n",
       "<table border=\"1\" class=\"dataframe\">\n",
       "  <thead>\n",
       "    <tr style=\"text-align: right;\">\n",
       "      <th></th>\n",
       "      <th>segunda</th>\n",
       "      <th>terça</th>\n",
       "      <th>quarta</th>\n",
       "      <th>quinta</th>\n",
       "    </tr>\n",
       "  </thead>\n",
       "  <tbody>\n",
       "    <tr>\n",
       "      <th>A</th>\n",
       "      <td>162.439348</td>\n",
       "      <td>3.364598</td>\n",
       "      <td>83.959322</td>\n",
       "      <td>-137.367560</td>\n",
       "    </tr>\n",
       "    <tr>\n",
       "      <th>B</th>\n",
       "      <td>-131.240622</td>\n",
       "      <td>71.945029</td>\n",
       "      <td>-77.967268</td>\n",
       "      <td>-84.566044</td>\n",
       "    </tr>\n",
       "    <tr>\n",
       "      <th>C</th>\n",
       "      <td>-150.024524</td>\n",
       "      <td>61.528159</td>\n",
       "      <td>137.001959</td>\n",
       "      <td>26.436605</td>\n",
       "    </tr>\n",
       "    <tr>\n",
       "      <th>D</th>\n",
       "      <td>203.366431</td>\n",
       "      <td>-17.243816</td>\n",
       "      <td>-103.208256</td>\n",
       "      <td>3.046020</td>\n",
       "    </tr>\n",
       "    <tr>\n",
       "      <th>E</th>\n",
       "      <td>-49.569178</td>\n",
       "      <td>-13.940410</td>\n",
       "      <td>23.021503</td>\n",
       "      <td>148.374249</td>\n",
       "    </tr>\n",
       "    <tr>\n",
       "      <th>F</th>\n",
       "      <td>13.330562</td>\n",
       "      <td>-14.725618</td>\n",
       "      <td>-222.394507</td>\n",
       "      <td>-62.667815</td>\n",
       "    </tr>\n",
       "    <tr>\n",
       "      <th>G</th>\n",
       "      <td>-109.602005</td>\n",
       "      <td>-109.683970</td>\n",
       "      <td>64.977629</td>\n",
       "      <td>190.751876</td>\n",
       "    </tr>\n",
       "    <tr>\n",
       "      <th>H</th>\n",
       "      <td>-200.751559</td>\n",
       "      <td>-25.892671</td>\n",
       "      <td>-208.867894</td>\n",
       "      <td>71.320143</td>\n",
       "    </tr>\n",
       "    <tr>\n",
       "      <th>I</th>\n",
       "      <td>-67.078758</td>\n",
       "      <td>145.770062</td>\n",
       "      <td>27.718541</td>\n",
       "      <td>207.408853</td>\n",
       "    </tr>\n",
       "  </tbody>\n",
       "</table>\n",
       "</div>"
      ],
      "text/plain": [
       "      segunda       terça      quarta      quinta\n",
       "A  162.439348    3.364598   83.959322 -137.367560\n",
       "B -131.240622   71.945029  -77.967268  -84.566044\n",
       "C -150.024524   61.528159  137.001959   26.436605\n",
       "D  203.366431  -17.243816 -103.208256    3.046020\n",
       "E  -49.569178  -13.940410   23.021503  148.374249\n",
       "F   13.330562  -14.725618 -222.394507  -62.667815\n",
       "G -109.602005 -109.683970   64.977629  190.751876\n",
       "H -200.751559  -25.892671 -208.867894   71.320143\n",
       "I  -67.078758  145.770062   27.718541  207.408853"
      ]
     },
     "execution_count": 5,
     "metadata": {},
     "output_type": "execute_result"
    }
   ],
   "source": [
    "df"
   ]
  },
  {
   "cell_type": "markdown",
   "metadata": {},
   "source": [
    "# 4. Renomeando índices <a name=\"indices\"></a>\n",
    "<div style=\"text-align: right\"\n",
    "     \n",
    "    \n",
    "[Voltar ao índice](#Contents)"
   ]
  },
  {
   "cell_type": "code",
   "execution_count": 6,
   "metadata": {},
   "outputs": [],
   "source": [
    "df['coluna5'] = ['letraA','letraB','letraC','letraD','letraE','letraF','letraG','letraH','letraI']"
   ]
  },
  {
   "cell_type": "code",
   "execution_count": 9,
   "metadata": {
    "ExecuteTime": {
     "end_time": "2021-05-29T14:21:17.731165Z",
     "start_time": "2021-05-29T14:21:17.716176Z"
    }
   },
   "outputs": [
    {
     "data": {
      "text/html": [
       "<div>\n",
       "<style scoped>\n",
       "    .dataframe tbody tr th:only-of-type {\n",
       "        vertical-align: middle;\n",
       "    }\n",
       "\n",
       "    .dataframe tbody tr th {\n",
       "        vertical-align: top;\n",
       "    }\n",
       "\n",
       "    .dataframe thead th {\n",
       "        text-align: right;\n",
       "    }\n",
       "</style>\n",
       "<table border=\"1\" class=\"dataframe\">\n",
       "  <thead>\n",
       "    <tr style=\"text-align: right;\">\n",
       "      <th></th>\n",
       "      <th>segunda</th>\n",
       "      <th>terça</th>\n",
       "      <th>quarta</th>\n",
       "      <th>quinta</th>\n",
       "      <th>coluna5</th>\n",
       "    </tr>\n",
       "  </thead>\n",
       "  <tbody>\n",
       "    <tr>\n",
       "      <th>A</th>\n",
       "      <td>162.439348</td>\n",
       "      <td>3.364598</td>\n",
       "      <td>83.959322</td>\n",
       "      <td>-137.367560</td>\n",
       "      <td>letraA</td>\n",
       "    </tr>\n",
       "    <tr>\n",
       "      <th>B</th>\n",
       "      <td>-131.240622</td>\n",
       "      <td>71.945029</td>\n",
       "      <td>-77.967268</td>\n",
       "      <td>-84.566044</td>\n",
       "      <td>letraB</td>\n",
       "    </tr>\n",
       "    <tr>\n",
       "      <th>C</th>\n",
       "      <td>-150.024524</td>\n",
       "      <td>61.528159</td>\n",
       "      <td>137.001959</td>\n",
       "      <td>26.436605</td>\n",
       "      <td>letraC</td>\n",
       "    </tr>\n",
       "    <tr>\n",
       "      <th>D</th>\n",
       "      <td>203.366431</td>\n",
       "      <td>-17.243816</td>\n",
       "      <td>-103.208256</td>\n",
       "      <td>3.046020</td>\n",
       "      <td>letraD</td>\n",
       "    </tr>\n",
       "    <tr>\n",
       "      <th>E</th>\n",
       "      <td>-49.569178</td>\n",
       "      <td>-13.940410</td>\n",
       "      <td>23.021503</td>\n",
       "      <td>148.374249</td>\n",
       "      <td>letraE</td>\n",
       "    </tr>\n",
       "    <tr>\n",
       "      <th>F</th>\n",
       "      <td>13.330562</td>\n",
       "      <td>-14.725618</td>\n",
       "      <td>-222.394507</td>\n",
       "      <td>-62.667815</td>\n",
       "      <td>letraF</td>\n",
       "    </tr>\n",
       "    <tr>\n",
       "      <th>G</th>\n",
       "      <td>-109.602005</td>\n",
       "      <td>-109.683970</td>\n",
       "      <td>64.977629</td>\n",
       "      <td>190.751876</td>\n",
       "      <td>letraG</td>\n",
       "    </tr>\n",
       "    <tr>\n",
       "      <th>H</th>\n",
       "      <td>-200.751559</td>\n",
       "      <td>-25.892671</td>\n",
       "      <td>-208.867894</td>\n",
       "      <td>71.320143</td>\n",
       "      <td>letraH</td>\n",
       "    </tr>\n",
       "    <tr>\n",
       "      <th>I</th>\n",
       "      <td>-67.078758</td>\n",
       "      <td>145.770062</td>\n",
       "      <td>27.718541</td>\n",
       "      <td>207.408853</td>\n",
       "      <td>letraI</td>\n",
       "    </tr>\n",
       "  </tbody>\n",
       "</table>\n",
       "</div>"
      ],
      "text/plain": [
       "      segunda       terça      quarta      quinta coluna5\n",
       "A  162.439348    3.364598   83.959322 -137.367560  letraA\n",
       "B -131.240622   71.945029  -77.967268  -84.566044  letraB\n",
       "C -150.024524   61.528159  137.001959   26.436605  letraC\n",
       "D  203.366431  -17.243816 -103.208256    3.046020  letraD\n",
       "E  -49.569178  -13.940410   23.021503  148.374249  letraE\n",
       "F   13.330562  -14.725618 -222.394507  -62.667815  letraF\n",
       "G -109.602005 -109.683970   64.977629  190.751876  letraG\n",
       "H -200.751559  -25.892671 -208.867894   71.320143  letraH\n",
       "I  -67.078758  145.770062   27.718541  207.408853  letraI"
      ]
     },
     "execution_count": 9,
     "metadata": {},
     "output_type": "execute_result"
    }
   ],
   "source": [
    "df"
   ]
  },
  {
   "cell_type": "code",
   "execution_count": 12,
   "metadata": {
    "ExecuteTime": {
     "end_time": "2021-05-29T14:21:32.095960Z",
     "start_time": "2021-05-29T14:21:32.080969Z"
    }
   },
   "outputs": [],
   "source": [
    "df = df.set_index('coluna5')"
   ]
  },
  {
   "cell_type": "code",
   "execution_count": 14,
   "metadata": {
    "ExecuteTime": {
     "end_time": "2021-05-29T14:22:36.756818Z",
     "start_time": "2021-05-29T14:22:36.739827Z"
    }
   },
   "outputs": [
    {
     "data": {
      "text/html": [
       "<div>\n",
       "<style scoped>\n",
       "    .dataframe tbody tr th:only-of-type {\n",
       "        vertical-align: middle;\n",
       "    }\n",
       "\n",
       "    .dataframe tbody tr th {\n",
       "        vertical-align: top;\n",
       "    }\n",
       "\n",
       "    .dataframe thead th {\n",
       "        text-align: right;\n",
       "    }\n",
       "</style>\n",
       "<table border=\"1\" class=\"dataframe\">\n",
       "  <thead>\n",
       "    <tr style=\"text-align: right;\">\n",
       "      <th></th>\n",
       "      <th>segunda</th>\n",
       "      <th>terça</th>\n",
       "      <th>quarta</th>\n",
       "      <th>quinta</th>\n",
       "    </tr>\n",
       "    <tr>\n",
       "      <th>coluna5</th>\n",
       "      <th></th>\n",
       "      <th></th>\n",
       "      <th></th>\n",
       "      <th></th>\n",
       "    </tr>\n",
       "  </thead>\n",
       "  <tbody>\n",
       "    <tr>\n",
       "      <th>letraA</th>\n",
       "      <td>162.439348</td>\n",
       "      <td>3.364598</td>\n",
       "      <td>83.959322</td>\n",
       "      <td>-137.367560</td>\n",
       "    </tr>\n",
       "    <tr>\n",
       "      <th>letraB</th>\n",
       "      <td>-131.240622</td>\n",
       "      <td>71.945029</td>\n",
       "      <td>-77.967268</td>\n",
       "      <td>-84.566044</td>\n",
       "    </tr>\n",
       "    <tr>\n",
       "      <th>letraC</th>\n",
       "      <td>-150.024524</td>\n",
       "      <td>61.528159</td>\n",
       "      <td>137.001959</td>\n",
       "      <td>26.436605</td>\n",
       "    </tr>\n",
       "    <tr>\n",
       "      <th>letraD</th>\n",
       "      <td>203.366431</td>\n",
       "      <td>-17.243816</td>\n",
       "      <td>-103.208256</td>\n",
       "      <td>3.046020</td>\n",
       "    </tr>\n",
       "    <tr>\n",
       "      <th>letraE</th>\n",
       "      <td>-49.569178</td>\n",
       "      <td>-13.940410</td>\n",
       "      <td>23.021503</td>\n",
       "      <td>148.374249</td>\n",
       "    </tr>\n",
       "    <tr>\n",
       "      <th>letraF</th>\n",
       "      <td>13.330562</td>\n",
       "      <td>-14.725618</td>\n",
       "      <td>-222.394507</td>\n",
       "      <td>-62.667815</td>\n",
       "    </tr>\n",
       "    <tr>\n",
       "      <th>letraG</th>\n",
       "      <td>-109.602005</td>\n",
       "      <td>-109.683970</td>\n",
       "      <td>64.977629</td>\n",
       "      <td>190.751876</td>\n",
       "    </tr>\n",
       "    <tr>\n",
       "      <th>letraH</th>\n",
       "      <td>-200.751559</td>\n",
       "      <td>-25.892671</td>\n",
       "      <td>-208.867894</td>\n",
       "      <td>71.320143</td>\n",
       "    </tr>\n",
       "    <tr>\n",
       "      <th>letraI</th>\n",
       "      <td>-67.078758</td>\n",
       "      <td>145.770062</td>\n",
       "      <td>27.718541</td>\n",
       "      <td>207.408853</td>\n",
       "    </tr>\n",
       "  </tbody>\n",
       "</table>\n",
       "</div>"
      ],
      "text/plain": [
       "            segunda       terça      quarta      quinta\n",
       "coluna5                                                \n",
       "letraA   162.439348    3.364598   83.959322 -137.367560\n",
       "letraB  -131.240622   71.945029  -77.967268  -84.566044\n",
       "letraC  -150.024524   61.528159  137.001959   26.436605\n",
       "letraD   203.366431  -17.243816 -103.208256    3.046020\n",
       "letraE   -49.569178  -13.940410   23.021503  148.374249\n",
       "letraF    13.330562  -14.725618 -222.394507  -62.667815\n",
       "letraG  -109.602005 -109.683970   64.977629  190.751876\n",
       "letraH  -200.751559  -25.892671 -208.867894   71.320143\n",
       "letraI   -67.078758  145.770062   27.718541  207.408853"
      ]
     },
     "execution_count": 14,
     "metadata": {},
     "output_type": "execute_result"
    }
   ],
   "source": [
    "df"
   ]
  },
  {
   "cell_type": "code",
   "execution_count": 15,
   "metadata": {
    "ExecuteTime": {
     "end_time": "2021-05-29T14:22:45.637595Z",
     "start_time": "2021-05-29T14:22:45.613607Z"
    }
   },
   "outputs": [
    {
     "data": {
      "text/html": [
       "<div>\n",
       "<style scoped>\n",
       "    .dataframe tbody tr th:only-of-type {\n",
       "        vertical-align: middle;\n",
       "    }\n",
       "\n",
       "    .dataframe tbody tr th {\n",
       "        vertical-align: top;\n",
       "    }\n",
       "\n",
       "    .dataframe thead th {\n",
       "        text-align: right;\n",
       "    }\n",
       "</style>\n",
       "<table border=\"1\" class=\"dataframe\">\n",
       "  <thead>\n",
       "    <tr style=\"text-align: right;\">\n",
       "      <th></th>\n",
       "      <th>coluna5</th>\n",
       "      <th>segunda</th>\n",
       "      <th>terça</th>\n",
       "      <th>quarta</th>\n",
       "      <th>quinta</th>\n",
       "    </tr>\n",
       "  </thead>\n",
       "  <tbody>\n",
       "    <tr>\n",
       "      <th>0</th>\n",
       "      <td>letraA</td>\n",
       "      <td>162.439348</td>\n",
       "      <td>3.364598</td>\n",
       "      <td>83.959322</td>\n",
       "      <td>-137.367560</td>\n",
       "    </tr>\n",
       "    <tr>\n",
       "      <th>1</th>\n",
       "      <td>letraB</td>\n",
       "      <td>-131.240622</td>\n",
       "      <td>71.945029</td>\n",
       "      <td>-77.967268</td>\n",
       "      <td>-84.566044</td>\n",
       "    </tr>\n",
       "    <tr>\n",
       "      <th>2</th>\n",
       "      <td>letraC</td>\n",
       "      <td>-150.024524</td>\n",
       "      <td>61.528159</td>\n",
       "      <td>137.001959</td>\n",
       "      <td>26.436605</td>\n",
       "    </tr>\n",
       "    <tr>\n",
       "      <th>3</th>\n",
       "      <td>letraD</td>\n",
       "      <td>203.366431</td>\n",
       "      <td>-17.243816</td>\n",
       "      <td>-103.208256</td>\n",
       "      <td>3.046020</td>\n",
       "    </tr>\n",
       "    <tr>\n",
       "      <th>4</th>\n",
       "      <td>letraE</td>\n",
       "      <td>-49.569178</td>\n",
       "      <td>-13.940410</td>\n",
       "      <td>23.021503</td>\n",
       "      <td>148.374249</td>\n",
       "    </tr>\n",
       "    <tr>\n",
       "      <th>5</th>\n",
       "      <td>letraF</td>\n",
       "      <td>13.330562</td>\n",
       "      <td>-14.725618</td>\n",
       "      <td>-222.394507</td>\n",
       "      <td>-62.667815</td>\n",
       "    </tr>\n",
       "    <tr>\n",
       "      <th>6</th>\n",
       "      <td>letraG</td>\n",
       "      <td>-109.602005</td>\n",
       "      <td>-109.683970</td>\n",
       "      <td>64.977629</td>\n",
       "      <td>190.751876</td>\n",
       "    </tr>\n",
       "    <tr>\n",
       "      <th>7</th>\n",
       "      <td>letraH</td>\n",
       "      <td>-200.751559</td>\n",
       "      <td>-25.892671</td>\n",
       "      <td>-208.867894</td>\n",
       "      <td>71.320143</td>\n",
       "    </tr>\n",
       "    <tr>\n",
       "      <th>8</th>\n",
       "      <td>letraI</td>\n",
       "      <td>-67.078758</td>\n",
       "      <td>145.770062</td>\n",
       "      <td>27.718541</td>\n",
       "      <td>207.408853</td>\n",
       "    </tr>\n",
       "  </tbody>\n",
       "</table>\n",
       "</div>"
      ],
      "text/plain": [
       "  coluna5     segunda       terça      quarta      quinta\n",
       "0  letraA  162.439348    3.364598   83.959322 -137.367560\n",
       "1  letraB -131.240622   71.945029  -77.967268  -84.566044\n",
       "2  letraC -150.024524   61.528159  137.001959   26.436605\n",
       "3  letraD  203.366431  -17.243816 -103.208256    3.046020\n",
       "4  letraE  -49.569178  -13.940410   23.021503  148.374249\n",
       "5  letraF   13.330562  -14.725618 -222.394507  -62.667815\n",
       "6  letraG -109.602005 -109.683970   64.977629  190.751876\n",
       "7  letraH -200.751559  -25.892671 -208.867894   71.320143\n",
       "8  letraI  -67.078758  145.770062   27.718541  207.408853"
      ]
     },
     "execution_count": 15,
     "metadata": {},
     "output_type": "execute_result"
    }
   ],
   "source": [
    "df.reset_index()"
   ]
  },
  {
   "cell_type": "code",
   "execution_count": 16,
   "metadata": {
    "ExecuteTime": {
     "end_time": "2021-05-29T14:23:10.986877Z",
     "start_time": "2021-05-29T14:23:10.978896Z"
    }
   },
   "outputs": [
    {
     "data": {
      "text/html": [
       "<div>\n",
       "<style scoped>\n",
       "    .dataframe tbody tr th:only-of-type {\n",
       "        vertical-align: middle;\n",
       "    }\n",
       "\n",
       "    .dataframe tbody tr th {\n",
       "        vertical-align: top;\n",
       "    }\n",
       "\n",
       "    .dataframe thead th {\n",
       "        text-align: right;\n",
       "    }\n",
       "</style>\n",
       "<table border=\"1\" class=\"dataframe\">\n",
       "  <thead>\n",
       "    <tr style=\"text-align: right;\">\n",
       "      <th></th>\n",
       "      <th>segunda</th>\n",
       "      <th>terça</th>\n",
       "      <th>quarta</th>\n",
       "      <th>quinta</th>\n",
       "    </tr>\n",
       "  </thead>\n",
       "  <tbody>\n",
       "    <tr>\n",
       "      <th>0</th>\n",
       "      <td>162.439348</td>\n",
       "      <td>3.364598</td>\n",
       "      <td>83.959322</td>\n",
       "      <td>-137.367560</td>\n",
       "    </tr>\n",
       "    <tr>\n",
       "      <th>1</th>\n",
       "      <td>-131.240622</td>\n",
       "      <td>71.945029</td>\n",
       "      <td>-77.967268</td>\n",
       "      <td>-84.566044</td>\n",
       "    </tr>\n",
       "    <tr>\n",
       "      <th>2</th>\n",
       "      <td>-150.024524</td>\n",
       "      <td>61.528159</td>\n",
       "      <td>137.001959</td>\n",
       "      <td>26.436605</td>\n",
       "    </tr>\n",
       "    <tr>\n",
       "      <th>3</th>\n",
       "      <td>203.366431</td>\n",
       "      <td>-17.243816</td>\n",
       "      <td>-103.208256</td>\n",
       "      <td>3.046020</td>\n",
       "    </tr>\n",
       "    <tr>\n",
       "      <th>4</th>\n",
       "      <td>-49.569178</td>\n",
       "      <td>-13.940410</td>\n",
       "      <td>23.021503</td>\n",
       "      <td>148.374249</td>\n",
       "    </tr>\n",
       "    <tr>\n",
       "      <th>5</th>\n",
       "      <td>13.330562</td>\n",
       "      <td>-14.725618</td>\n",
       "      <td>-222.394507</td>\n",
       "      <td>-62.667815</td>\n",
       "    </tr>\n",
       "    <tr>\n",
       "      <th>6</th>\n",
       "      <td>-109.602005</td>\n",
       "      <td>-109.683970</td>\n",
       "      <td>64.977629</td>\n",
       "      <td>190.751876</td>\n",
       "    </tr>\n",
       "    <tr>\n",
       "      <th>7</th>\n",
       "      <td>-200.751559</td>\n",
       "      <td>-25.892671</td>\n",
       "      <td>-208.867894</td>\n",
       "      <td>71.320143</td>\n",
       "    </tr>\n",
       "    <tr>\n",
       "      <th>8</th>\n",
       "      <td>-67.078758</td>\n",
       "      <td>145.770062</td>\n",
       "      <td>27.718541</td>\n",
       "      <td>207.408853</td>\n",
       "    </tr>\n",
       "  </tbody>\n",
       "</table>\n",
       "</div>"
      ],
      "text/plain": [
       "      segunda       terça      quarta      quinta\n",
       "0  162.439348    3.364598   83.959322 -137.367560\n",
       "1 -131.240622   71.945029  -77.967268  -84.566044\n",
       "2 -150.024524   61.528159  137.001959   26.436605\n",
       "3  203.366431  -17.243816 -103.208256    3.046020\n",
       "4  -49.569178  -13.940410   23.021503  148.374249\n",
       "5   13.330562  -14.725618 -222.394507  -62.667815\n",
       "6 -109.602005 -109.683970   64.977629  190.751876\n",
       "7 -200.751559  -25.892671 -208.867894   71.320143\n",
       "8  -67.078758  145.770062   27.718541  207.408853"
      ]
     },
     "execution_count": 16,
     "metadata": {},
     "output_type": "execute_result"
    }
   ],
   "source": [
    "df.reset_index(drop=True)"
   ]
  },
  {
   "cell_type": "code",
   "execution_count": null,
   "metadata": {},
   "outputs": [],
   "source": []
  },
  {
   "cell_type": "code",
   "execution_count": null,
   "metadata": {},
   "outputs": [],
   "source": []
  },
  {
   "cell_type": "code",
   "execution_count": null,
   "metadata": {},
   "outputs": [],
   "source": []
  },
  {
   "cell_type": "code",
   "execution_count": null,
   "metadata": {},
   "outputs": [],
   "source": []
  }
 ],
 "metadata": {
  "kernelspec": {
   "display_name": "Python 3 (ipykernel)",
   "language": "python",
   "name": "python3"
  },
  "language_info": {
   "codemirror_mode": {
    "name": "ipython",
    "version": 3
   },
   "file_extension": ".py",
   "mimetype": "text/x-python",
   "name": "python",
   "nbconvert_exporter": "python",
   "pygments_lexer": "ipython3",
   "version": "3.11.4"
  },
  "varInspector": {
   "cols": {
    "lenName": 16,
    "lenType": 16,
    "lenVar": 40
   },
   "kernels_config": {
    "python": {
     "delete_cmd_postfix": "",
     "delete_cmd_prefix": "del ",
     "library": "var_list.py",
     "varRefreshCmd": "print(var_dic_list())"
    },
    "r": {
     "delete_cmd_postfix": ") ",
     "delete_cmd_prefix": "rm(",
     "library": "var_list.r",
     "varRefreshCmd": "cat(var_dic_list()) "
    }
   },
   "types_to_exclude": [
    "module",
    "function",
    "builtin_function_or_method",
    "instance",
    "_Feature"
   ],
   "window_display": false
  }
 },
 "nbformat": 4,
 "nbformat_minor": 4
}
